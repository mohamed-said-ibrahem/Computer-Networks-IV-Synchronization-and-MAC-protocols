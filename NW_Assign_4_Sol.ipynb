{
  "nbformat": 4,
  "nbformat_minor": 0,
  "metadata": {
    "kernelspec": {
      "display_name": "Python 3",
      "language": "python",
      "name": "python3"
    },
    "language_info": {
      "codemirror_mode": {
        "name": "ipython",
        "version": 3
      },
      "file_extension": ".py",
      "mimetype": "text/x-python",
      "name": "python",
      "nbconvert_exporter": "python",
      "pygments_lexer": "ipython3",
      "version": "3.6.4"
    },
    "colab": {
      "name": "NW_Assign_4_Sol.ipynb",
      "provenance": [],
      "collapsed_sections": []
    }
  },
  "cells": [
    {
      "cell_type": "markdown",
      "metadata": {
        "id": "sTrHNphzhcyV",
        "colab_type": "text"
      },
      "source": [
        "# CS431: Computer Networks and Communications\n",
        "# Assignment 4: Synchronization and MAC protocols\n",
        "\n",
        "In class we've learned about different MAC (medium access control) protocols that determine when devices get to transmit (these protocols *control* *access* to the *medium*). For all but the simplest MAC protocols, the participating devices need to be synchronized in time. The way this is done in practice is to have one node transmit a signal (called a \"preamble\" or \"beacon\") and the other nodes will listen for this signal. Since wireless signals travel at the speed of light, all nodes can agree that they will hear the preamble at nearly exactly the same time.\n",
        "\n",
        "First, we will explore how nodes can listen for a specific preamble to achieve time synchronization. Then, we will wrap up with a Monte Carlo simulation of the capacities of the slotted-ALOHA MAC protocol."
      ]
    },
    {
      "cell_type": "code",
      "metadata": {
        "id": "CwR5bfuzhcyY",
        "colab_type": "code",
        "colab": {}
      },
      "source": [
        "# By Mohamed Said (https://github.com/mohamed-said-ibrahem)\n",
        "\n",
        "# For more info about MAC https://www.youtube.com/watch?v=509AmnKtx-c \n",
        "# Plotting library for the Python programming language and its numerical mathematics extension NumPy. \n",
        "# It provides an object-oriented API for embedding plots into applications using general-purpose GUI toolkits like Tkinter, wxPython, Qt, or GTK+.\n",
        "%matplotlib inline\n",
        "# Libraries Imports.\n",
        "from matplotlib import pyplot as plt\n",
        "import random\n",
        "import numpy as np"
      ],
      "execution_count": 0,
      "outputs": []
    },
    {
      "cell_type": "markdown",
      "metadata": {
        "colab_type": "text",
        "id": "Nr24uGJhMr2Y"
      },
      "source": [
        "# Part 1: Correlation and Preambles"
      ]
    },
    {
      "cell_type": "markdown",
      "metadata": {
        "id": "9-Hz9mHLhcyc",
        "colab_type": "text"
      },
      "source": [
        "A preamble is a waveform sent at the beginning of a packet that is used to indicate the start of a packet. The preamble waveform is agreed to ahead-of-time, so the signal carries no data. Receivers will listen for the preamble, and when it's detected the receivers will start to demodulate the rest of the packet. Preambles can also be used to synchronize multiple clients for MAC protocols that require synchronization.\n",
        "\n",
        "In this part, we will explore how to detect and synchronize to a preamble. Both detection and synchronization can be done using a **correlation**. A correlation of two discrete signals $x$ and $y$ is an infinite-length discrete signal which is defined as\n",
        "$$ (x \\star y)[k] = \\sum_{n = -\\infty}^{\\infty}x^*[n] \\cdot y[n + k]$$\n",
        "In other words, at each index $k$, you take conjugate of the first signal $x$ and offset the second signal $y$ by $k$ indices and then sum the resulting two signals. Intuitively, the correlation measures the similarity of two signals for every offset of the one signal relative to the other. For signals with finite length, the correlation is zero for sufficiently large $|k|$, so often we'll consider the correlation to be finite as well."
      ]
    },
    {
      "cell_type": "markdown",
      "metadata": {
        "id": "-pIKT5MZhcyd",
        "colab_type": "text"
      },
      "source": [
        "### Problem 1.1: Autocorrelation (5 pts)\n",
        "The autocorrelation of a signal $x$ is the correlation of $x$ with itself. For a uniform random signal $x$ think about what the autocorrelation would look like.\n",
        "\n",
        "- **Plot the signal and its autocorrelation. Use `numpy.correlate` with `mode='full'`, and plot the absolute value of the autocorrelation.**"
      ]
    },
    {
      "cell_type": "code",
      "metadata": {
        "id": "Dh6zunnyhcye",
        "colab_type": "code",
        "colab": {}
      },
      "source": [
        "X_len = 1000\n",
        "X = np.random.random(X_len) + 1j * np.random.random(X_len)\n",
        "# Autocorrelation of a signal x is the correlation of x with itself\n",
        "correlation = np.correlate(X, X, mode='full')"
      ],
      "execution_count": 0,
      "outputs": []
    },
    {
      "cell_type": "code",
      "metadata": {
        "id": "3ZRB-czDhcyg",
        "colab_type": "code",
        "outputId": "2873aa98-24a1-44a3-d31f-5fad6fe6b93b",
        "colab": {
          "base_uri": "https://localhost:8080/",
          "height": 34
        }
      },
      "source": [
        "# r is the same as the correlation at this case.\n",
        "r = np.correlate(X, X, mode='full')[len(X)-1:]\n",
        "print(X.shape, r.shape)"
      ],
      "execution_count": 19,
      "outputs": [
        {
          "output_type": "stream",
          "text": [
            "(1000,) (1000,)\n"
          ],
          "name": "stdout"
        }
      ]
    },
    {
      "cell_type": "code",
      "metadata": {
        "id": "cFMIS_2wirJc",
        "colab_type": "code",
        "outputId": "cc7b2477-72b6-4a4c-eb04-406298759cf4",
        "colab": {
          "base_uri": "https://localhost:8080/",
          "height": 369
        }
      },
      "source": [
        "# Plotting.\n",
        "plt.figure(figsize=(14, 5))\n",
        "# Plot the signal and its autocorrelation.\n",
        "plt.plot(X, label='Signal')\n",
        "plt.xlabel('Lag (samples)')\n",
        "# Plotting the absolute value of the autocorrelation.\n",
        "plt.plot(abs(correlation), label='Correlation')\n",
        "# For more info : https://matplotlib.org/3.1.1/api/_as_gen/matplotlib.pyplot.legend.html\n",
        "# The simplest legend can be created with the plt.legend() command, which automatically creates a legend for any labeled plot elements.\n",
        "plt.legend()\n",
        "plt.xlim(0, 2100)\n",
        "plt.show()"
      ],
      "execution_count": 27,
      "outputs": [
        {
          "output_type": "stream",
          "text": [
            "/usr/local/lib/python3.6/dist-packages/numpy/core/_asarray.py:85: ComplexWarning: Casting complex values to real discards the imaginary part\n",
            "  return array(a, dtype, copy=False, order=order)\n"
          ],
          "name": "stderr"
        },
        {
          "output_type": "display_data",
          "data": {
            "image/png": "[encoded data removed]",
            "text/plain": [
              "<Figure size 1008x360 with 1 Axes>"
            ]
          },
          "metadata": {
            "tags": []
          }
        }
      ]
    },
    {
      "cell_type": "markdown",
      "metadata": {
        "id": "KIvk0PMThcyi",
        "colab_type": "text"
      },
      "source": [
        "So how do we use the correlation to detect a preamble? Let $x$ be the preamble signal, and let $y$ be the signal that the receiver receives. For now, we'll let $y$ be finite length. If the preamble is not received, then we can model $y$ as a random signal, and the correlation between $x$ and $y$ will also be random. However, if the receiver did receive the preamble in the signal $y$, then we can model $y$ as $x$ with some offset plus noise. The correlation between $x$ and $y$ will then have a large amplitude at the time in $y$ when the preamble started. So if we look for large peaks in the correlation we can detect and then also synchronize to a given preamble."
      ]
    },
    {
      "cell_type": "markdown",
      "metadata": {
        "id": "JkPFQdMKhcyj",
        "colab_type": "text"
      },
      "source": [
        "### Problem 1.2: Preamble detection using correlation (10 pts)\n",
        "Implement preamble detection and synchronization using the correlation.\n",
        "\n",
        "- **Fill in the `detect_preamble` function below. The function should take two signals and return `None` if the preamble is not found, otherwise it should return the index where the preamble starts.**"
      ]
    },
    {
      "cell_type": "code",
      "metadata": {
        "id": "mqZgbbqchcyk",
        "colab_type": "code",
        "colab": {}
      },
      "source": [
        "# For More Tuturials you can check https://www.youtube.com/watch?v=PHYCkgQcQ34  to know more about Beacon :)\n",
        "# Compare the correlation magnitude against this value to determine whether there is a preamble or not\n",
        "threshold = 100\n",
        "def detect_preamble(preamble, signal):\n",
        "  # Absolute value of correlation between preamble and signal.\n",
        "  correlation = list(abs(np.correlate(preamble, signal, mode='full')))\n",
        "  maxValue = max(correlation)\n",
        "  if maxValue >= threshold:\n",
        "    # Index where preamble starts. # Get maxValue index inside the correlation list and then subtract it from lenth of signal.\n",
        "    return len(signal) - 1 - correlation.index(maxValue)\n",
        "  return None"
      ],
      "execution_count": 0,
      "outputs": []
    },
    {
      "cell_type": "code",
      "metadata": {
        "id": "NbfYZm9Ghcym",
        "colab_type": "code",
        "colab": {}
      },
      "source": [
        "# This cell will test your implementation of `detect_preamble`\n",
        "preamble_length = 100\n",
        "signal_length = 1000\n",
        "preamble = (np.random.random(preamble_length) + 1j * np.random.random(preamble_length))\n",
        "signalA = np.random.random(signal_length) + 1j * np.random.random(signal_length)\n",
        "signalB = np.random.random(signal_length) + 1j * np.random.random(signal_length)\n",
        "preamble_start_idx = 123\n",
        "signalB[preamble_start_idx:preamble_start_idx + preamble_length] += preamble\n",
        "\n",
        "np.testing.assert_equal(detect_preamble(preamble, signalA), None)\n",
        "np.testing.assert_equal(detect_preamble(preamble, signalB), preamble_start_idx)"
      ],
      "execution_count": 0,
      "outputs": []
    },
    {
      "cell_type": "markdown",
      "metadata": {
        "id": "BxG8t1NHhcyo",
        "colab_type": "text"
      },
      "source": [
        "## Handling Frequency Offsets\n",
        "In practice, radios will disagree on their center frequencies. This is because a radio's center frequency is determined by a local oscillator (which is fed into the \"mixer\"), and these oscillators have some error. What this means is that a signal that's transmitted by one radio will be received with a \"frequency offset\" by another radio.\n",
        "\n",
        "Unfortunately, if the receiving radio doesn't know what the frequency offset is, then this can cause the correlation to fail. Consider the demonstration below:"
      ]
    },
    {
      "cell_type": "code",
      "metadata": {
        "id": "J03M9Nxbhcyp",
        "colab_type": "code",
        "colab": {}
      },
      "source": [
        "def shift_frequency(signal, freq_shift):\n",
        "    \"\"\"\n",
        "    Applies a frequency shift to a signal. `freq_shift` is in radians per sample, and should be between 0 and 2𝛑.\n",
        "    \n",
        "    A frequency offset is simply an addition of a linearly increasing phase. Note that you could have taken the DFT,\n",
        "    circularly shifted the spectrum, and then taken the IDFT, and you would have gotten the same result.\n",
        "    \"\"\"\n",
        "    return signal * np.exp(1j * freq_shift * np.arange(len(signal)))"
      ],
      "execution_count": 0,
      "outputs": []
    },
    {
      "cell_type": "code",
      "metadata": {
        "id": "fjqHctVfhcyr",
        "colab_type": "code",
        "outputId": "dfffc8fa-0487-49c7-c510-349b232ad3fe",
        "colab": {
          "base_uri": "https://localhost:8080/",
          "height": 265
        }
      },
      "source": [
        "X_with_freq_offset = shift_frequency(X, 0.1)\n",
        "X_autocorr = np.correlate(X, X, mode='same')\n",
        "X_autocorr_freq_offset = np.correlate(X, X_with_freq_offset, mode='same')\n",
        "plt.figure()\n",
        "plt.plot(abs(X_autocorr), label=\"Normal correlation\")\n",
        "plt.plot(abs(X_autocorr_freq_offset), label=\"Correlation with frequency offset\")\n",
        "plt.legend()\n",
        "plt.show()\n"
      ],
      "execution_count": 38,
      "outputs": [
        {
          "output_type": "display_data",
          "data": {
            "image/png": "[encoded data removed]",
            "text/plain": [
              "<Figure size 432x288 with 1 Axes>"
            ]
          },
          "metadata": {
            "tags": []
          }
        }
      ]
    },
    {
      "cell_type": "markdown",
      "metadata": {
        "id": "plMmzjHLhcyu",
        "colab_type": "text"
      },
      "source": [
        "As you can see, the correlation with a frequency offset doesn't have a large peak anywhere. This is because the frequency offset causes the received signal to \"look\" significantly different from the transmitted signal, and so the correlation fails to detect the preamble.\n",
        "\n",
        "The way this is handled in practice is by using a method called \"Schmidl-Cox\" synchronization. The intuition is that the frequency offset \"corrupts\" our signal such that we can't detect it using correlation, but if we were to send two copies of the preamble back-to-back, then we would receive two copies of the corrupted preamble back-to-back. Then, instead of searching for a specific signal, we can search for any signal that repeats in time.\n",
        "\n",
        "Let $L$ be the length of the repeated segment. Then the preamble has length $2L$. At each index $d$ of the signal $s$, the Schmidl-Cox algorithm calculates the following two values:\n",
        "$$ P(d) = \\sum_{m=0}^{L - 1} s_{d + m}^* s_{d + m + L} $$\n",
        "$$ R(d) = \\frac{1}{2} \\sum_{m=0}^{2L - 1} \\left| s_{d + m} \\right|^2 $$\n",
        "\n",
        "Then the metric calculated at each index is\n",
        "\n",
        "$$ M(d) = \\frac{\\left| P(d) \\right|^2}{R(d)^2} $$\n",
        "\n",
        "Intuitively, $P$ is a correlation between the next $L$ samples and the following $L$ samples and $R$ is a normalization factor. Once the value of $M$ increases beyond a threshold, the preamble is detected. Note that $P$ also has a recursive form:\n",
        "\n",
        "$$ P(d + 1) = P(d) + (s_{d + L}^* s_{d + 2L}) - (s_{d}^* s_{d + L}) $$\n",
        "\n",
        "**Food for thought**: How could we use a Schmidl-Cox preamble to estimate the frequency offset? This may not be immediatly obvious, but we will do this in Lab 4 to estimate and then correct frequency offsets for when we're receiving data."
      ]
    },
    {
      "cell_type": "markdown",
      "metadata": {
        "id": "aKLny9EAhcyv",
        "colab_type": "text"
      },
      "source": [
        "### Problem 1.3 Schmidl-Cox Preamble Detection (10 pts)\n",
        "- **Implement the Schmidl-Cox preamble detector below.**\n",
        "\n",
        "You can use either the iterative or recursive formulations for calculating $P$. Return the index $d^*$ that maximizes $M(d)$ if $M(d^*)$ is greater than the threshold, otherwise return None."
      ]
    },
    {
      "cell_type": "code",
      "metadata": {
        "id": "WEx2AtDmhcyv",
        "colab_type": "code",
        "colab": {}
      },
      "source": [
        "schmidl_cox_threshold = 0.5\n",
        "# Schmidl-Cox preamble detector.\n",
        "# Try to follow the implementation.\n",
        "def detect_preamble_with_freq_offset(signal, short_preamble_len):\n",
        "  lenth = short_preamble_len\n",
        "  max_1 = -1 \n",
        "  max_2 = -1\n",
        "  for d in range(len(signal) - 2*lenth - 1):\n",
        "    p = sum(signal[d+m].conj() * signal[d+m+lenth] for m in range(lenth))\n",
        "    r = sum(abs(signal[d+m])**2 for m in range(2*lenth)) * 0.5\n",
        "    m = (abs(p) / r)**2\n",
        "\n",
        "    if m >= schmidl_cox_threshold and m < max_1:\n",
        "      return max_2\n",
        "    else:\n",
        "      max_1 = m\n",
        "      max_2 = d\n",
        "\n",
        "  return None"
      ],
      "execution_count": 0,
      "outputs": []
    },
    {
      "cell_type": "code",
      "metadata": {
        "scrolled": false,
        "id": "f7AzqRCFhcyy",
        "colab_type": "code",
        "colab": {}
      },
      "source": [
        "# This cell will test your implementation of `detect_preamble`\n",
        "short_preamble_length = 100\n",
        "signal_length = 1000\n",
        "short_preamble = np.exp(2j * np.pi * np.random.random(short_preamble_length))\n",
        "preamble = np.tile(short_preamble, 2)\n",
        "noise = np.random.normal(size=signal_length) + 1j * np.random.normal(size=signal_length)\n",
        "signalA = 0.1 * noise\n",
        "signalB = 0.1 * noise\n",
        "signalC = 0.1 * noise\n",
        "preamble_start_idx = 321\n",
        "signalB[preamble_start_idx:preamble_start_idx + len(preamble)] += preamble\n",
        "signalC[preamble_start_idx:preamble_start_idx + len(preamble)] += shift_frequency(preamble, 0.1)\n",
        "\n",
        "np.testing.assert_equal(detect_preamble_with_freq_offset(signalA, short_preamble_length), None)\n",
        "np.testing.assert_equal(detect_preamble_with_freq_offset(signalB, short_preamble_length), 321)\n",
        "np.testing.assert_equal(detect_preamble_with_freq_offset(signalC, short_preamble_length), 321)"
      ],
      "execution_count": 0,
      "outputs": []
    },
    {
      "cell_type": "markdown",
      "metadata": {
        "id": "Mdn00obfhcy5",
        "colab_type": "text"
      },
      "source": [
        "## Part 2: Slotted-ALOHA Capacity\n",
        "\n",
        "In the idealized slotted aloha model, time is splitted into multiple slots and the packet transmission time is one full slot. All nodes are perfectly syncronized, and transmit at the begining of each slot. The transmission probability for each user for each slot is some value $p$.\n",
        "\n",
        "For each time slot, three cases may happen. 1): There are more than one nodes transmits, thus resulting in a conflict slot. The receiver cannot receive them correctly. 2): There is only one node transmission and thus the receiver can receive it correctly. 3): No node transmits at the current slot.\n",
        "\n",
        "In this section, we will verify the slotted-ALOHA capacity curve through Monte-Carlo simulation.\n",
        "\n",
        "### Problem 2.1 Slotted ALOHA Simulation (10 pts)\n",
        "- **Fill in the function below.**\n",
        "\n",
        "The function will take a number of users, a number of time slots, and a probability $p$ that a given user will transmit on a given timeslot. The function will return the ratio of successful timeslots (timeslots in which a successful transmission occurred) to total number of timeslots."
      ]
    },
    {
      "cell_type": "code",
      "metadata": {
        "id": "3XvLqkHShcy6",
        "colab_type": "code",
        "colab": {}
      },
      "source": [
        "# num_timeslots is not used here at my equation :|\n",
        "# For Pure ALOHA and Solotted ALOHA you can check this video https://www.youtube.com/watch?v=509AmnKtx-c \n",
        "# ALOHA is mac protocol (contention based).\n",
        "# 1. Node can send at time when they are ready to send.\n",
        "# 2. In case of collision they wait random amount of time and again resent.\n",
        "# 3. Feedback property or ACK is used to check successful transmission of frame.\n",
        "def simulate_slotted_aloha(num_users, num_timeslots, per_slot_user_prob):\n",
        "  return num_users * per_slot_user_prob * ((1 - per_slot_user_prob)**(num_users -1))"
      ],
      "execution_count": 0,
      "outputs": []
    },
    {
      "cell_type": "markdown",
      "metadata": {
        "id": "xDhaugJxhcy8",
        "colab_type": "text"
      },
      "source": [
        "### Problem 2.2 Verifying Slotted ALOHA capacity (5 pts)\n",
        "Run your simulation over 1000 values of $p$ between 0 and 1 with 10 users and 10k timeslots.\n",
        "- **Plot the timeslot success ratio as a function of $p$ **\n",
        "\n",
        "Verify that the resulting plot matches the theoretical curve."
      ]
    },
    {
      "cell_type": "code",
      "metadata": {
        "id": "sm4k4Alhhcy9",
        "colab_type": "code",
        "colab": {
          "base_uri": "https://localhost:8080/",
          "height": 283
        },
        "outputId": "92172b55-b499-4bc0-a87e-6ebd43082bdc"
      },
      "source": [
        "p = np.arange(0, 1, 0.001) # 1000 value\n",
        "success = [simulate_slotted_aloha(10, 10000, i) for i in p]\n",
        "plt.figure()\n",
        "plt.plot(p, success)"
      ],
      "execution_count": 63,
      "outputs": [
        {
          "output_type": "execute_result",
          "data": {
            "text/plain": [
              "[<matplotlib.lines.Line2D at 0x7f6861de5668>]"
            ]
          },
          "metadata": {
            "tags": []
          },
          "execution_count": 63
        },
        {
          "output_type": "display_data",
          "data": {
            "image/png": "[encoded data removed]",
            "text/plain": [
              "<Figure size 432x288 with 1 Axes>"
            ]
          },
          "metadata": {
            "tags": []
          }
        }
      ]
    }
  ]
}